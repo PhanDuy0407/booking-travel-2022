{
  "nbformat": 4,
  "nbformat_minor": 0,
  "metadata": {
    "colab": {
      "name": "chuyen_de_loc_cong_tac.ipynb",
      "provenance": [],
      "collapsed_sections": []
    },
    "kernelspec": {
      "name": "python3",
      "display_name": "Python 3"
    },
    "language_info": {
      "name": "python"
    }
  },
  "cells": [
    {
      "cell_type": "code",
      "source": [
        "import numpy as np\n",
        "import pandas as pd\n",
        "import scipy.sparse\n",
        "from scipy.spatial.distance import correlation\n",
        "\n",
        "data=pd.read_csv('/content/data_collaborative.csv')\n",
        "placeInfo=pd.read_csv('/content/data_content.csv')\n",
        "\n",
        "data=pd.merge(data,placeInfo,left_on='itemId',right_on=\"itemId\")\n",
        "userIds=data.userId\n",
        "userIds2=data[['userId']]\n",
        "\n",
        "data.loc[0:10,['userId']]\n",
        "data=pd.DataFrame.sort_values(data,['userId','itemId'],ascending=[0,1])\n",
        "\n",
        "\n",
        "def favoritePlace(activeUser,N):\n",
        "    topPlace=pd.DataFrame.sort_values(\n",
        "        data[data.userId==activeUser],['rating'],ascending=[0])[:N]\n",
        "    return list(topPlace.title)\n",
        "\n",
        "userItemRatingMatrix=pd.pivot_table(data, values='rating',\n",
        "                                    index=['userId'], columns=['itemId'])\n",
        "\n",
        "\n",
        "def similarity(user1,user2):\n",
        "    try:\n",
        "        user1=np.array(user1)-np.nanmean(user1)\n",
        "        user2=np.array(user2)-np.nanmean(user2)\n",
        "        commonItemIds=[i for i in range(len(user1)) if user1[i]>0 and user2[i]>0]\n",
        "        if len(commonItemIds)==0:\n",
        "           return 0\n",
        "        else:\n",
        "           user1=np.array([user1[i] for i in commonItemIds])\n",
        "           user2=np.array([user2[i] for i in commonItemIds])\n",
        "           return correlation(user1,user2)\n",
        "    except ZeroDivisionError:\n",
        "        print(\"You can't divide by zero!\")\n",
        "\n",
        "\n",
        "\n",
        "def nearestNeighbourRatings(activeUser,K):\n",
        "    try:\n",
        "        similarityMatrix=pd.DataFrame(index=userItemRatingMatrix.index,columns=['Similarity'])\n",
        "        for i in userItemRatingMatrix.index:\n",
        "            similarityMatrix.loc[i]=similarity(userItemRatingMatrix.loc[activeUser],userItemRatingMatrix.loc[i])\n",
        "        similarityMatrix=pd.DataFrame.sort_values(similarityMatrix,['Similarity'],ascending=[0])\n",
        "        nearestNeighbours=similarityMatrix[:K]\n",
        "        neighbourItemRatings=userItemRatingMatrix.loc[nearestNeighbours.index]\n",
        "        predictItemRating=pd.DataFrame(index=userItemRatingMatrix.columns, columns=['Rating'])\n",
        "        for i in userItemRatingMatrix.columns:\n",
        "            predictedRating=np.nanmean(userItemRatingMatrix.loc[activeUser])\n",
        "            for j in neighbourItemRatings.index:\n",
        "                if userItemRatingMatrix.loc[j,i]>0:\n",
        "                   predictedRating += (userItemRatingMatrix.loc[j,i]-np.nanmean(userItemRatingMatrix.loc[j]))*nearestNeighbours.loc[j,'Similarity']\n",
        "                predictItemRating.loc[i,'Rating']=predictedRating\n",
        "    except ZeroDivisionError:\n",
        "        print(\"You can't divide by zero!\")            \n",
        "    return predictItemRating\n",
        "\n",
        "\n",
        "def topNRecommendations(activeUser,N):\n",
        "    try:\n",
        "        predictItemRating=nearestNeighbourRatings(activeUser,10)\n",
        "        placeAlreadyWatched=list(userItemRatingMatrix.loc[activeUser]\n",
        "                              .loc[userItemRatingMatrix.loc[activeUser]>0].index)\n",
        "        predictItemRating=predictItemRating.drop(placeAlreadyWatched)\n",
        "        topRecommendations=pd.DataFrame.sort_values(predictItemRating,\n",
        "                                                ['Rating'],ascending=[0])[:N]\n",
        "        topRecommendationTitles=(placeInfo.loc[placeInfo.itemId.isin(topRecommendations.index)])\n",
        "    except ZeroDivisionError:\n",
        "        print(\"You can't divide by zero!\")\n",
        "    return list(topRecommendationTitles.title)\n",
        "\n",
        "\n",
        "activeUser=int(input(\"Enter userid: \"))\n",
        "#print(\"The user's favorite places are: \")\n",
        "#print(favoritePlace(activeUser,5))\n",
        "print(\"The recommended places for you are: \")\n",
        "print(topNRecommendations(activeUser,4))"
      ],
      "metadata": {
        "colab": {
          "base_uri": "https://localhost:8080/"
        },
        "id": "GXMUiOK2r3qM",
        "outputId": "84e0f8a9-66d0-463b-8d6d-db2701cba286"
      },
      "execution_count": null,
      "outputs": [
        {
          "output_type": "stream",
          "name": "stdout",
          "text": [
            "Enter userid: 2\n",
            "The recommended places for you are: \n",
            "['Jaipur Zoo', 'Amer Fort / Amber Fort', 'Maharani Ki Chhatri', 'City Palace / Sawai Man Singh II Museum']\n"
          ]
        },
        {
          "output_type": "stream",
          "name": "stderr",
          "text": [
            "/usr/local/lib/python3.7/dist-packages/scipy/spatial/distance.py:720: RuntimeWarning: invalid value encountered in double_scalars\n",
            "  dist = 1.0 - uv / np.sqrt(uu * vv)\n"
          ]
        }
      ]
    }
  ]
}